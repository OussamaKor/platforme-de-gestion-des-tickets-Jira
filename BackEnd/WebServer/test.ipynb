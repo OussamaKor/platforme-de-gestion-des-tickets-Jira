{
 "cells": [
  {
   "cell_type": "code",
   "execution_count": 1,
   "metadata": {},
   "outputs": [],
   "source": [
    "from jira.client import JIRA\n",
    "from requests_toolbelt import user_agent\n",
    "from datetime import date,datetime\n",
    "from deep_translator import GoogleTranslator\n",
    "import pickle\n",
    "import pandas as pd\n",
    "from catboost import CatBoostClassifier"
   ]
  },
  {
   "cell_type": "code",
   "execution_count": 2,
   "metadata": {},
   "outputs": [],
   "source": [
    "options = {'server': \"https://hibernate.atlassian.net/\"}\n",
    "jira = JIRA(options, basic_auth=(\"bahriahmed94@gmail.com\", \"slHGJreyEZ1GCec8ZKbtEC6E\"))"
   ]
  },
  {
   "cell_type": "code",
   "execution_count": 3,
   "metadata": {},
   "outputs": [],
   "source": [
    "def get_projects_informations(jira,projects):\n",
    "    file = open('../IA/models/encoderTypeTicket', 'rb')\n",
    "    file_version = open('../IA/models/encoderTypeVersion', 'rb')\n",
    "    model_cb = CatBoostClassifier(task_type='GPU', iterations=100, \n",
    "                              random_state = 2021, \n",
    "                              eval_metric=\"Accuracy\",boost_from_average=False)\n",
    "    model_participant=model_cb.load_model(\"../IA/models/participant\")\n",
    "    loaded_model = pickle.load(file)\n",
    "    loaded_model_version = pickle.load(file_version)\n",
    "    notifications=[]\n",
    "    data=[]\n",
    "\n",
    "    i=0\n",
    "    for project in projects :\n",
    "        nb_bug_month=0\n",
    "        nb_bug_last_month=0\n",
    "        print(i)\n",
    "        notifications.append([])\n",
    "\n",
    "        size = 100\n",
    "        initial = 0\n",
    "        test=False\n",
    "        now=datetime.today()\n",
    "        while True:\n",
    "            \n",
    "            start= initial*size\n",
    "            issues = jira.search_issues('project={}'.format(project), start,size)\n",
    "            if len(issues) == 0 or test:\n",
    "                i+=1\n",
    "                break\n",
    "            initial += 1\n",
    "            d=\"\"\n",
    "            version=\"Mineur\"\n",
    "            priorite=1\n",
    "            type_ticket=\"Tâche\"\n",
    "\n",
    "            for issue in issues:\n",
    "                x=issue\n",
    "                a=int(issue.fields.created.split(\"-\")[0])\n",
    "                m=int(issue.fields.created.split(\"-\")[1])\n",
    "                j=int(issue.fields.created.split(\"-\")[2][:2])\n",
    "                d=date(a,m,j)\n",
    "                if(((date(now.year,now.month,now.day)-d).days<=3 )):\n",
    "                    if issue.fields.status.name!=\"Closed\" and issue.fields.status.name!=\"Resolved\"   :\n",
    "                        if(len(issue.fields.versions)!=0):\n",
    "\n",
    "                            v=issue.fields.versions[0].name\n",
    "                        \n",
    "                            \n",
    "                            if(len(v.split(\".\"))==3):\n",
    "                                \n",
    "                                if(v.split(\".\")[1]==\"0\" and v.split(\".\")[2].startswith(\"0\")):\n",
    "                                \n",
    "                                    version=\"Majeur\"\n",
    "                                elif(v.split(\".\")[1]==\"0\" and not(v.split(\".\")[2].startswith(\"0\"))):\n",
    "                                    version=\"Patch\"\n",
    "                                elif(v.split(\".\")[1]!=\"0\" and v.split(\".\")[2].startswith(\"0\")):\n",
    "                                    version=\"Mineur\"\n",
    "\n",
    "                            \n",
    "                                \n",
    "                            if (issue.fields.priority.name==\"Trivial\"):\n",
    "                                priorite=1\n",
    "                            elif (issue.fields.priority.name==\"Minor\"):\n",
    "                                priorite=2\n",
    "                            elif (issue.fields.priority.name==\"Major\"):\n",
    "                                priorite=3\n",
    "                            elif (issue.fields.priority.name==\"Critical\"):\n",
    "                                priorite=4\n",
    "                            elif (issue.fields.priority.name==\"Blocker\"):\n",
    "                                priorite=5\n",
    "                    \n",
    "                            \n",
    "                            if(issue.fields.issuetype.name==\"Bug\"):\n",
    "                                type_ticket=\"Bug\"\n",
    "                            \n",
    "                            elif(issue.fields.issuetype.name==\"Task\"):\n",
    "                                type_ticket=\"Tâche\"\n",
    "\n",
    "                            elif(issue.fields.issuetype.name==\"Improvement\"):\n",
    "                                type_ticket=\"Amélioration\"\n",
    "                                \n",
    "                            elif(issue.fields.issuetype.name==\"Sub-task\"):\n",
    "                                type_ticket=\"Sous-tâche\"\n",
    "\n",
    "                            elif(issue.fields.issuetype.name==\"New Feature\"):\n",
    "                                type_ticket=\"Nouvelle fonctionnalité\"\n",
    "                           \n",
    "                            elif(issue.fields.issuetype.name==\"Deprecation\"):\n",
    "                                type_ticket=\"Deprecation\"\n",
    "                            elif(issue.fields.issuetype.name==\"Epic\"):\n",
    "                                type_ticket=\"Epic\"\n",
    "                            elif(issue.fields.issuetype.name==\"Remove Feature\"):\n",
    "                                type_ticket=\"Remove Feature\"\n",
    "                            elif(issue.fields.issuetype.name==\"Patch\"):\n",
    "                                type_ticket=\"Patch\"  \n",
    "\n",
    "                            elif(issue.fields.issuetype.name==\"Technical task\"):\n",
    "                                type_ticket=\"Technical task\"\n",
    "                            elif(issue.fields.issuetype.name==\"Story\"):\n",
    "                                type_ticket=\"Story\"  \n",
    "                            \n",
    "          \n",
    "                        data={\"Priorité\":[priorite],\"Type de ticket\":[loaded_model.transform([type_ticket])[0]],\"Jour\":[j],\"Mois\":[m],\"Annee\":[a],\"Nombre de Composants\":[len(issue.fields.components)],\"Nombre de Versions corrigées\":[len(issue.fields.versions)],\"Type de Version\":[loaded_model_version.transform([version])[0]]}\n",
    "                        df =pd.DataFrame.from_dict(data)\n",
    "                        x=model_participant.predict(df)[0][0]\n",
    "                        if(abs(x-len(issue.fields.customfield_10050)) ==2):\n",
    "                            notifications[i].append({\"project\":issue.fields.project.name,\"key\":issue.key,\"nombre de participant\":str(x),\"priority\":\"low\"})\n",
    "                        elif(abs(x-len(issue.fields.customfield_10050)) ==3):\n",
    "                            notifications[i].append({\"project\":issue.fields.project.name,\"key\":issue.key,\"nombre de participant\":str(x),\"priority\":\"medium\"})\n",
    "                        elif(abs(x-len(issue.fields.customfield_10050)) ==4):\n",
    "                            notifications[i].append({\"project\":issue.fields.project.name,\"key\":issue.key,\"nombre de participant\":str(x),\"priority\":\"heigh\"})\n",
    "                else : \n",
    "                    test=True\n",
    "                    break \n",
    "            \n",
    "\n",
    "            for issue in issues:\n",
    "                a=int(issue.fields.created.split(\"-\")[0])\n",
    "                m=int(issue.fields.created.split(\"-\")[1])\n",
    "                j=int(issue.fields.created.split(\"-\")[2][:2])\n",
    "                d=date(a,m,j)\n",
    "                if(d.year - a) * 12 + d.month - m <=1:\n",
    "                    nb_bug_month+=1\n",
    "                elif (d.year - a) * 12 + d.month - m ==2:\n",
    "                    nb_bug_last_month+=1\n",
    "\n",
    "\n",
    "    if(nb_bug_month-nb_bug_month>5):\n",
    "        notifications[i].append({\"project\":issue.fields.project.name,\"key\":issue.key,\"msg\":\"High number of bug :\" +str(nb_bug_month),\"priority\":\"low\"})\n",
    "    elif(nb_bug_month-nb_bug_month>10):\n",
    "        notifications[i].append({\"project\":issue.fields.project.name,\"key\":issue.key,\"msg\":\"High number of bug :\" +str(nb_bug_month),\"priority\":\"medium\"})\n",
    "    elif(nb_bug_month-nb_bug_month>15):\n",
    "        notifications[i].append({\"project\":issue.fields.project.name,\"key\":issue.key,\"msg\":\"High number of bug :\" +str(nb_bug_month),\"priority\":\"high\"})\n",
    "\n",
    "    file_version.close()                \n",
    "    file.close()\n",
    "    return x"
   ]
  },
  {
   "cell_type": "code",
   "execution_count": 4,
   "metadata": {},
   "outputs": [
    {
     "name": "stdout",
     "output_type": "stream",
     "text": [
      "0\n"
     ]
    }
   ],
   "source": [
    "ae=get_projects_informations(jira,[\"HHH\"])"
   ]
  },
  {
   "cell_type": "code",
   "execution_count": 8,
   "metadata": {},
   "outputs": [
    {
     "data": {
      "text/plain": [
       "1"
      ]
     },
     "execution_count": 8,
     "metadata": {},
     "output_type": "execute_result"
    }
   ],
   "source": [
    "len(issue.fields.fixVersions)"
   ]
  },
  {
   "cell_type": "code",
   "execution_count": null,
   "metadata": {},
   "outputs": [],
   "source": []
  }
 ],
 "metadata": {
  "interpreter": {
   "hash": "16d5d8e9511b4a1f70ac14e2fd6fdd3dfeaec2e7924ea268b32083e775082e72"
  },
  "kernelspec": {
   "display_name": "Python 3.9.9 ('env': venv)",
   "language": "python",
   "name": "python3"
  },
  "language_info": {
   "codemirror_mode": {
    "name": "ipython",
    "version": 3
   },
   "file_extension": ".py",
   "mimetype": "text/x-python",
   "name": "python",
   "nbconvert_exporter": "python",
   "pygments_lexer": "ipython3",
   "version": "3.9.9"
  },
  "orig_nbformat": 4
 },
 "nbformat": 4,
 "nbformat_minor": 2
}
